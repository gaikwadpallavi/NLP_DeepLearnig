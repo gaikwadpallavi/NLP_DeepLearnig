{
 "cells": [
  {
   "cell_type": "markdown",
   "id": "13ba141b",
   "metadata": {},
   "source": [
    "# SPRINT-1"
   ]
  },
  {
   "cell_type": "code",
   "execution_count": 2,
   "id": "8a2d3d4f",
   "metadata": {},
   "outputs": [],
   "source": [
    "import os\n",
    "import numpy as np\n",
    "import pandas as pd\n",
    "import matplotlib.pyplot as plt\n",
    "from matplotlib import image\n",
    "import seaborn as sns\n",
    "import PIL\n",
    "%matplotlib inline\n",
    "import warnings\n",
    "warnings.filterwarnings(\"ignore\")"
   ]
  },
  {
   "cell_type": "code",
   "execution_count": 2,
   "id": "b5a36934",
   "metadata": {},
   "outputs": [],
   "source": [
    "from tqdm import tqdm"
   ]
  },
  {
   "cell_type": "code",
   "execution_count": 3,
   "id": "b3e6ce9b",
   "metadata": {},
   "outputs": [],
   "source": [
    "## Getting all the images \n",
    "img = []\n",
    "for i in range(10):\n",
    "    f = \"C:\\\\Users\\\\user\\\\Desktop\\\\INNOMATICS\\\\datasets\\\\mnist_data\\\\\"+str(i)\n",
    "    for j in os.listdir(f): \n",
    "        img.append(\"C:\\\\Users\\\\user\\\\Desktop\\\\INNOMATICS\\\\datasets\\\\mnist_data\\\\\"+str(i)+\"\\\\\"+j) "
   ]
  },
  {
   "cell_type": "code",
   "execution_count": 4,
   "id": "7b5fa8c2",
   "metadata": {},
   "outputs": [
    {
     "name": "stderr",
     "output_type": "stream",
     "text": [
      "100%|███████████████████████████████████████████████████████████████████████████| 42000/42000 [00:59<00:00, 706.60it/s]\n"
     ]
    }
   ],
   "source": [
    "## Creating an array of an image\n",
    "df = []\n",
    "for k in tqdm(img):\n",
    "    img1 = image.imread(k)      ## n - dimensional array\n",
    "    img2= img1[:,:,0].flatten()      ## single layer image\n",
    "    df.append(img2)\n"
   ]
  },
  {
   "cell_type": "code",
   "execution_count": 5,
   "id": "b9a759c0",
   "metadata": {},
   "outputs": [
    {
     "data": {
      "text/html": [
       "<div>\n",
       "<style scoped>\n",
       "    .dataframe tbody tr th:only-of-type {\n",
       "        vertical-align: middle;\n",
       "    }\n",
       "\n",
       "    .dataframe tbody tr th {\n",
       "        vertical-align: top;\n",
       "    }\n",
       "\n",
       "    .dataframe thead th {\n",
       "        text-align: right;\n",
       "    }\n",
       "</style>\n",
       "<table border=\"1\" class=\"dataframe\">\n",
       "  <thead>\n",
       "    <tr style=\"text-align: right;\">\n",
       "      <th></th>\n",
       "      <th>0</th>\n",
       "      <th>1</th>\n",
       "      <th>2</th>\n",
       "      <th>3</th>\n",
       "      <th>4</th>\n",
       "      <th>5</th>\n",
       "      <th>6</th>\n",
       "      <th>7</th>\n",
       "      <th>8</th>\n",
       "      <th>9</th>\n",
       "      <th>...</th>\n",
       "      <th>774</th>\n",
       "      <th>775</th>\n",
       "      <th>776</th>\n",
       "      <th>777</th>\n",
       "      <th>778</th>\n",
       "      <th>779</th>\n",
       "      <th>780</th>\n",
       "      <th>781</th>\n",
       "      <th>782</th>\n",
       "      <th>783</th>\n",
       "    </tr>\n",
       "  </thead>\n",
       "  <tbody>\n",
       "    <tr>\n",
       "      <th>0</th>\n",
       "      <td>0.266667</td>\n",
       "      <td>0.266667</td>\n",
       "      <td>0.266667</td>\n",
       "      <td>0.266667</td>\n",
       "      <td>0.266667</td>\n",
       "      <td>0.266667</td>\n",
       "      <td>0.266667</td>\n",
       "      <td>0.266667</td>\n",
       "      <td>0.266667</td>\n",
       "      <td>0.266667</td>\n",
       "      <td>...</td>\n",
       "      <td>0.266667</td>\n",
       "      <td>0.266667</td>\n",
       "      <td>0.266667</td>\n",
       "      <td>0.266667</td>\n",
       "      <td>0.266667</td>\n",
       "      <td>0.266667</td>\n",
       "      <td>0.266667</td>\n",
       "      <td>0.266667</td>\n",
       "      <td>0.266667</td>\n",
       "      <td>0.266667</td>\n",
       "    </tr>\n",
       "    <tr>\n",
       "      <th>1</th>\n",
       "      <td>0.266667</td>\n",
       "      <td>0.266667</td>\n",
       "      <td>0.266667</td>\n",
       "      <td>0.266667</td>\n",
       "      <td>0.266667</td>\n",
       "      <td>0.266667</td>\n",
       "      <td>0.266667</td>\n",
       "      <td>0.266667</td>\n",
       "      <td>0.266667</td>\n",
       "      <td>0.266667</td>\n",
       "      <td>...</td>\n",
       "      <td>0.266667</td>\n",
       "      <td>0.266667</td>\n",
       "      <td>0.266667</td>\n",
       "      <td>0.266667</td>\n",
       "      <td>0.266667</td>\n",
       "      <td>0.266667</td>\n",
       "      <td>0.266667</td>\n",
       "      <td>0.266667</td>\n",
       "      <td>0.266667</td>\n",
       "      <td>0.266667</td>\n",
       "    </tr>\n",
       "    <tr>\n",
       "      <th>2</th>\n",
       "      <td>0.266667</td>\n",
       "      <td>0.266667</td>\n",
       "      <td>0.266667</td>\n",
       "      <td>0.266667</td>\n",
       "      <td>0.266667</td>\n",
       "      <td>0.266667</td>\n",
       "      <td>0.266667</td>\n",
       "      <td>0.266667</td>\n",
       "      <td>0.266667</td>\n",
       "      <td>0.266667</td>\n",
       "      <td>...</td>\n",
       "      <td>0.266667</td>\n",
       "      <td>0.266667</td>\n",
       "      <td>0.266667</td>\n",
       "      <td>0.266667</td>\n",
       "      <td>0.266667</td>\n",
       "      <td>0.266667</td>\n",
       "      <td>0.266667</td>\n",
       "      <td>0.266667</td>\n",
       "      <td>0.266667</td>\n",
       "      <td>0.266667</td>\n",
       "    </tr>\n",
       "    <tr>\n",
       "      <th>3</th>\n",
       "      <td>0.266667</td>\n",
       "      <td>0.266667</td>\n",
       "      <td>0.266667</td>\n",
       "      <td>0.266667</td>\n",
       "      <td>0.266667</td>\n",
       "      <td>0.266667</td>\n",
       "      <td>0.266667</td>\n",
       "      <td>0.266667</td>\n",
       "      <td>0.266667</td>\n",
       "      <td>0.266667</td>\n",
       "      <td>...</td>\n",
       "      <td>0.266667</td>\n",
       "      <td>0.266667</td>\n",
       "      <td>0.266667</td>\n",
       "      <td>0.266667</td>\n",
       "      <td>0.266667</td>\n",
       "      <td>0.266667</td>\n",
       "      <td>0.266667</td>\n",
       "      <td>0.266667</td>\n",
       "      <td>0.266667</td>\n",
       "      <td>0.266667</td>\n",
       "    </tr>\n",
       "    <tr>\n",
       "      <th>4</th>\n",
       "      <td>0.266667</td>\n",
       "      <td>0.266667</td>\n",
       "      <td>0.266667</td>\n",
       "      <td>0.266667</td>\n",
       "      <td>0.266667</td>\n",
       "      <td>0.266667</td>\n",
       "      <td>0.266667</td>\n",
       "      <td>0.266667</td>\n",
       "      <td>0.266667</td>\n",
       "      <td>0.266667</td>\n",
       "      <td>...</td>\n",
       "      <td>0.266667</td>\n",
       "      <td>0.266667</td>\n",
       "      <td>0.266667</td>\n",
       "      <td>0.266667</td>\n",
       "      <td>0.266667</td>\n",
       "      <td>0.266667</td>\n",
       "      <td>0.266667</td>\n",
       "      <td>0.266667</td>\n",
       "      <td>0.266667</td>\n",
       "      <td>0.266667</td>\n",
       "    </tr>\n",
       "  </tbody>\n",
       "</table>\n",
       "<p>5 rows × 784 columns</p>\n",
       "</div>"
      ],
      "text/plain": [
       "        0         1         2         3         4         5         6    \\\n",
       "0  0.266667  0.266667  0.266667  0.266667  0.266667  0.266667  0.266667   \n",
       "1  0.266667  0.266667  0.266667  0.266667  0.266667  0.266667  0.266667   \n",
       "2  0.266667  0.266667  0.266667  0.266667  0.266667  0.266667  0.266667   \n",
       "3  0.266667  0.266667  0.266667  0.266667  0.266667  0.266667  0.266667   \n",
       "4  0.266667  0.266667  0.266667  0.266667  0.266667  0.266667  0.266667   \n",
       "\n",
       "        7         8         9    ...       774       775       776       777  \\\n",
       "0  0.266667  0.266667  0.266667  ...  0.266667  0.266667  0.266667  0.266667   \n",
       "1  0.266667  0.266667  0.266667  ...  0.266667  0.266667  0.266667  0.266667   \n",
       "2  0.266667  0.266667  0.266667  ...  0.266667  0.266667  0.266667  0.266667   \n",
       "3  0.266667  0.266667  0.266667  ...  0.266667  0.266667  0.266667  0.266667   \n",
       "4  0.266667  0.266667  0.266667  ...  0.266667  0.266667  0.266667  0.266667   \n",
       "\n",
       "        778       779       780       781       782       783  \n",
       "0  0.266667  0.266667  0.266667  0.266667  0.266667  0.266667  \n",
       "1  0.266667  0.266667  0.266667  0.266667  0.266667  0.266667  \n",
       "2  0.266667  0.266667  0.266667  0.266667  0.266667  0.266667  \n",
       "3  0.266667  0.266667  0.266667  0.266667  0.266667  0.266667  \n",
       "4  0.266667  0.266667  0.266667  0.266667  0.266667  0.266667  \n",
       "\n",
       "[5 rows x 784 columns]"
      ]
     },
     "execution_count": 5,
     "metadata": {},
     "output_type": "execute_result"
    }
   ],
   "source": [
    "## Creating Dataframe\n",
    "df = pd.DataFrame(df)\n",
    "df.head()"
   ]
  },
  {
   "cell_type": "code",
   "execution_count": 6,
   "id": "9f15010f",
   "metadata": {},
   "outputs": [],
   "source": [
    "df['Target'] = 'target'"
   ]
  },
  {
   "cell_type": "code",
   "execution_count": 7,
   "id": "22e4f307",
   "metadata": {},
   "outputs": [],
   "source": [
    "df['Target'][:4132]=df['Target'][:4132].apply(lambda x : str(x).replace('target','0'))\n",
    "df['Target'][4132:8816]=df['Target'][4132:8816].apply(lambda x : str(x).replace('target','1'))\n",
    "df['Target'][8816:12993]=df['Target'][8816:12993].apply(lambda x : str(x).replace('target','2'))\n",
    "df['Target'][12993:17344]=df['Target'][12993:17344].apply(lambda x : str(x).replace('target','3'))\n",
    "df['Target'][17344:21416]=df['Target'][17344:21416].apply(lambda x : str(x).replace('target','4'))\n",
    "df['Target'][21416:25211]=df['Target'][21416:25211].apply(lambda x : str(x).replace('target','5'))\n",
    "df['Target'][25211:29348]=df['Target'][25211:29348].apply(lambda x : str(x).replace('target','6'))\n",
    "df['Target'][29348:33749]=df['Target'][29348:33749].apply(lambda x : str(x).replace('target','7'))\n",
    "df['Target'][33749:37812]=df['Target'][33749:37812].apply(lambda x : str(x).replace('target','8'))\n",
    "df['Target'][37812:]=df['Target'][37812:].apply(lambda x : str(x).replace('target','9'))\n"
   ]
  },
  {
   "cell_type": "code",
   "execution_count": 8,
   "id": "81613f33",
   "metadata": {
    "scrolled": true
   },
   "outputs": [
    {
     "data": {
      "text/plain": [
       "1    4684\n",
       "7    4401\n",
       "3    4351\n",
       "9    4188\n",
       "2    4177\n",
       "6    4137\n",
       "0    4132\n",
       "4    4072\n",
       "8    4063\n",
       "5    3795\n",
       "Name: Target, dtype: int64"
      ]
     },
     "execution_count": 8,
     "metadata": {},
     "output_type": "execute_result"
    }
   ],
   "source": [
    "df['Target'].value_counts()"
   ]
  },
  {
   "cell_type": "code",
   "execution_count": 9,
   "id": "6b70fb8a",
   "metadata": {},
   "outputs": [],
   "source": [
    "## Converting dataframe to csv file\n",
    "df.to_csv('mnist.csv',index = False)"
   ]
  },
  {
   "cell_type": "code",
   "execution_count": 10,
   "id": "1f29e7b5",
   "metadata": {},
   "outputs": [],
   "source": [
    "df = pd.read_csv('mnist.csv')"
   ]
  },
  {
   "cell_type": "code",
   "execution_count": 11,
   "id": "a0fc4f09",
   "metadata": {},
   "outputs": [
    {
     "data": {
      "text/html": [
       "<div>\n",
       "<style scoped>\n",
       "    .dataframe tbody tr th:only-of-type {\n",
       "        vertical-align: middle;\n",
       "    }\n",
       "\n",
       "    .dataframe tbody tr th {\n",
       "        vertical-align: top;\n",
       "    }\n",
       "\n",
       "    .dataframe thead th {\n",
       "        text-align: right;\n",
       "    }\n",
       "</style>\n",
       "<table border=\"1\" class=\"dataframe\">\n",
       "  <thead>\n",
       "    <tr style=\"text-align: right;\">\n",
       "      <th></th>\n",
       "      <th>0</th>\n",
       "      <th>1</th>\n",
       "      <th>2</th>\n",
       "      <th>3</th>\n",
       "      <th>4</th>\n",
       "      <th>5</th>\n",
       "      <th>6</th>\n",
       "      <th>7</th>\n",
       "      <th>8</th>\n",
       "      <th>9</th>\n",
       "      <th>...</th>\n",
       "      <th>775</th>\n",
       "      <th>776</th>\n",
       "      <th>777</th>\n",
       "      <th>778</th>\n",
       "      <th>779</th>\n",
       "      <th>780</th>\n",
       "      <th>781</th>\n",
       "      <th>782</th>\n",
       "      <th>783</th>\n",
       "      <th>Target</th>\n",
       "    </tr>\n",
       "  </thead>\n",
       "  <tbody>\n",
       "    <tr>\n",
       "      <th>count</th>\n",
       "      <td>4.200000e+04</td>\n",
       "      <td>4.200000e+04</td>\n",
       "      <td>4.200000e+04</td>\n",
       "      <td>4.200000e+04</td>\n",
       "      <td>4.200000e+04</td>\n",
       "      <td>4.200000e+04</td>\n",
       "      <td>4.200000e+04</td>\n",
       "      <td>4.200000e+04</td>\n",
       "      <td>4.200000e+04</td>\n",
       "      <td>4.200000e+04</td>\n",
       "      <td>...</td>\n",
       "      <td>42000.000000</td>\n",
       "      <td>42000.000000</td>\n",
       "      <td>42000.000000</td>\n",
       "      <td>42000.000000</td>\n",
       "      <td>42000.000000</td>\n",
       "      <td>4.200000e+04</td>\n",
       "      <td>4.200000e+04</td>\n",
       "      <td>4.200000e+04</td>\n",
       "      <td>4.200000e+04</td>\n",
       "      <td>42000.000000</td>\n",
       "    </tr>\n",
       "    <tr>\n",
       "      <th>mean</th>\n",
       "      <td>2.666667e-01</td>\n",
       "      <td>2.666667e-01</td>\n",
       "      <td>2.666667e-01</td>\n",
       "      <td>2.666667e-01</td>\n",
       "      <td>2.666667e-01</td>\n",
       "      <td>2.666667e-01</td>\n",
       "      <td>2.666667e-01</td>\n",
       "      <td>2.666667e-01</td>\n",
       "      <td>2.666667e-01</td>\n",
       "      <td>2.666667e-01</td>\n",
       "      <td>...</td>\n",
       "      <td>0.266809</td>\n",
       "      <td>0.266707</td>\n",
       "      <td>0.266676</td>\n",
       "      <td>0.266695</td>\n",
       "      <td>0.266665</td>\n",
       "      <td>2.666667e-01</td>\n",
       "      <td>2.666667e-01</td>\n",
       "      <td>2.666667e-01</td>\n",
       "      <td>2.666667e-01</td>\n",
       "      <td>4.456643</td>\n",
       "    </tr>\n",
       "    <tr>\n",
       "      <th>std</th>\n",
       "      <td>2.254890e-13</td>\n",
       "      <td>2.254890e-13</td>\n",
       "      <td>2.254890e-13</td>\n",
       "      <td>2.254890e-13</td>\n",
       "      <td>2.254890e-13</td>\n",
       "      <td>2.254890e-13</td>\n",
       "      <td>2.254890e-13</td>\n",
       "      <td>2.254890e-13</td>\n",
       "      <td>2.254890e-13</td>\n",
       "      <td>2.254890e-13</td>\n",
       "      <td>...</td>\n",
       "      <td>0.010808</td>\n",
       "      <td>0.006231</td>\n",
       "      <td>0.003548</td>\n",
       "      <td>0.004643</td>\n",
       "      <td>0.000218</td>\n",
       "      <td>2.254890e-13</td>\n",
       "      <td>2.254890e-13</td>\n",
       "      <td>2.254890e-13</td>\n",
       "      <td>2.254890e-13</td>\n",
       "      <td>2.887730</td>\n",
       "    </tr>\n",
       "    <tr>\n",
       "      <th>min</th>\n",
       "      <td>2.666667e-01</td>\n",
       "      <td>2.666667e-01</td>\n",
       "      <td>2.666667e-01</td>\n",
       "      <td>2.666667e-01</td>\n",
       "      <td>2.666667e-01</td>\n",
       "      <td>2.666667e-01</td>\n",
       "      <td>2.666667e-01</td>\n",
       "      <td>2.666667e-01</td>\n",
       "      <td>2.666667e-01</td>\n",
       "      <td>2.666667e-01</td>\n",
       "      <td>...</td>\n",
       "      <td>0.117647</td>\n",
       "      <td>0.121569</td>\n",
       "      <td>0.125490</td>\n",
       "      <td>0.137255</td>\n",
       "      <td>0.231373</td>\n",
       "      <td>2.666667e-01</td>\n",
       "      <td>2.666667e-01</td>\n",
       "      <td>2.666667e-01</td>\n",
       "      <td>2.666667e-01</td>\n",
       "      <td>0.000000</td>\n",
       "    </tr>\n",
       "    <tr>\n",
       "      <th>25%</th>\n",
       "      <td>2.666667e-01</td>\n",
       "      <td>2.666667e-01</td>\n",
       "      <td>2.666667e-01</td>\n",
       "      <td>2.666667e-01</td>\n",
       "      <td>2.666667e-01</td>\n",
       "      <td>2.666667e-01</td>\n",
       "      <td>2.666667e-01</td>\n",
       "      <td>2.666667e-01</td>\n",
       "      <td>2.666667e-01</td>\n",
       "      <td>2.666667e-01</td>\n",
       "      <td>...</td>\n",
       "      <td>0.266667</td>\n",
       "      <td>0.266667</td>\n",
       "      <td>0.266667</td>\n",
       "      <td>0.266667</td>\n",
       "      <td>0.266667</td>\n",
       "      <td>2.666667e-01</td>\n",
       "      <td>2.666667e-01</td>\n",
       "      <td>2.666667e-01</td>\n",
       "      <td>2.666667e-01</td>\n",
       "      <td>2.000000</td>\n",
       "    </tr>\n",
       "    <tr>\n",
       "      <th>50%</th>\n",
       "      <td>2.666667e-01</td>\n",
       "      <td>2.666667e-01</td>\n",
       "      <td>2.666667e-01</td>\n",
       "      <td>2.666667e-01</td>\n",
       "      <td>2.666667e-01</td>\n",
       "      <td>2.666667e-01</td>\n",
       "      <td>2.666667e-01</td>\n",
       "      <td>2.666667e-01</td>\n",
       "      <td>2.666667e-01</td>\n",
       "      <td>2.666667e-01</td>\n",
       "      <td>...</td>\n",
       "      <td>0.266667</td>\n",
       "      <td>0.266667</td>\n",
       "      <td>0.266667</td>\n",
       "      <td>0.266667</td>\n",
       "      <td>0.266667</td>\n",
       "      <td>2.666667e-01</td>\n",
       "      <td>2.666667e-01</td>\n",
       "      <td>2.666667e-01</td>\n",
       "      <td>2.666667e-01</td>\n",
       "      <td>4.000000</td>\n",
       "    </tr>\n",
       "    <tr>\n",
       "      <th>75%</th>\n",
       "      <td>2.666667e-01</td>\n",
       "      <td>2.666667e-01</td>\n",
       "      <td>2.666667e-01</td>\n",
       "      <td>2.666667e-01</td>\n",
       "      <td>2.666667e-01</td>\n",
       "      <td>2.666667e-01</td>\n",
       "      <td>2.666667e-01</td>\n",
       "      <td>2.666667e-01</td>\n",
       "      <td>2.666667e-01</td>\n",
       "      <td>2.666667e-01</td>\n",
       "      <td>...</td>\n",
       "      <td>0.266667</td>\n",
       "      <td>0.266667</td>\n",
       "      <td>0.266667</td>\n",
       "      <td>0.266667</td>\n",
       "      <td>0.266667</td>\n",
       "      <td>2.666667e-01</td>\n",
       "      <td>2.666667e-01</td>\n",
       "      <td>2.666667e-01</td>\n",
       "      <td>2.666667e-01</td>\n",
       "      <td>7.000000</td>\n",
       "    </tr>\n",
       "    <tr>\n",
       "      <th>max</th>\n",
       "      <td>2.666667e-01</td>\n",
       "      <td>2.666667e-01</td>\n",
       "      <td>2.666667e-01</td>\n",
       "      <td>2.666667e-01</td>\n",
       "      <td>2.666667e-01</td>\n",
       "      <td>2.666667e-01</td>\n",
       "      <td>2.666667e-01</td>\n",
       "      <td>2.666667e-01</td>\n",
       "      <td>2.666667e-01</td>\n",
       "      <td>2.666667e-01</td>\n",
       "      <td>...</td>\n",
       "      <td>0.980392</td>\n",
       "      <td>0.972549</td>\n",
       "      <td>0.972549</td>\n",
       "      <td>0.980392</td>\n",
       "      <td>0.266667</td>\n",
       "      <td>2.666667e-01</td>\n",
       "      <td>2.666667e-01</td>\n",
       "      <td>2.666667e-01</td>\n",
       "      <td>2.666667e-01</td>\n",
       "      <td>9.000000</td>\n",
       "    </tr>\n",
       "  </tbody>\n",
       "</table>\n",
       "<p>8 rows × 785 columns</p>\n",
       "</div>"
      ],
      "text/plain": [
       "                  0             1             2             3             4  \\\n",
       "count  4.200000e+04  4.200000e+04  4.200000e+04  4.200000e+04  4.200000e+04   \n",
       "mean   2.666667e-01  2.666667e-01  2.666667e-01  2.666667e-01  2.666667e-01   \n",
       "std    2.254890e-13  2.254890e-13  2.254890e-13  2.254890e-13  2.254890e-13   \n",
       "min    2.666667e-01  2.666667e-01  2.666667e-01  2.666667e-01  2.666667e-01   \n",
       "25%    2.666667e-01  2.666667e-01  2.666667e-01  2.666667e-01  2.666667e-01   \n",
       "50%    2.666667e-01  2.666667e-01  2.666667e-01  2.666667e-01  2.666667e-01   \n",
       "75%    2.666667e-01  2.666667e-01  2.666667e-01  2.666667e-01  2.666667e-01   \n",
       "max    2.666667e-01  2.666667e-01  2.666667e-01  2.666667e-01  2.666667e-01   \n",
       "\n",
       "                  5             6             7             8             9  \\\n",
       "count  4.200000e+04  4.200000e+04  4.200000e+04  4.200000e+04  4.200000e+04   \n",
       "mean   2.666667e-01  2.666667e-01  2.666667e-01  2.666667e-01  2.666667e-01   \n",
       "std    2.254890e-13  2.254890e-13  2.254890e-13  2.254890e-13  2.254890e-13   \n",
       "min    2.666667e-01  2.666667e-01  2.666667e-01  2.666667e-01  2.666667e-01   \n",
       "25%    2.666667e-01  2.666667e-01  2.666667e-01  2.666667e-01  2.666667e-01   \n",
       "50%    2.666667e-01  2.666667e-01  2.666667e-01  2.666667e-01  2.666667e-01   \n",
       "75%    2.666667e-01  2.666667e-01  2.666667e-01  2.666667e-01  2.666667e-01   \n",
       "max    2.666667e-01  2.666667e-01  2.666667e-01  2.666667e-01  2.666667e-01   \n",
       "\n",
       "       ...           775           776           777           778  \\\n",
       "count  ...  42000.000000  42000.000000  42000.000000  42000.000000   \n",
       "mean   ...      0.266809      0.266707      0.266676      0.266695   \n",
       "std    ...      0.010808      0.006231      0.003548      0.004643   \n",
       "min    ...      0.117647      0.121569      0.125490      0.137255   \n",
       "25%    ...      0.266667      0.266667      0.266667      0.266667   \n",
       "50%    ...      0.266667      0.266667      0.266667      0.266667   \n",
       "75%    ...      0.266667      0.266667      0.266667      0.266667   \n",
       "max    ...      0.980392      0.972549      0.972549      0.980392   \n",
       "\n",
       "                779           780           781           782           783  \\\n",
       "count  42000.000000  4.200000e+04  4.200000e+04  4.200000e+04  4.200000e+04   \n",
       "mean       0.266665  2.666667e-01  2.666667e-01  2.666667e-01  2.666667e-01   \n",
       "std        0.000218  2.254890e-13  2.254890e-13  2.254890e-13  2.254890e-13   \n",
       "min        0.231373  2.666667e-01  2.666667e-01  2.666667e-01  2.666667e-01   \n",
       "25%        0.266667  2.666667e-01  2.666667e-01  2.666667e-01  2.666667e-01   \n",
       "50%        0.266667  2.666667e-01  2.666667e-01  2.666667e-01  2.666667e-01   \n",
       "75%        0.266667  2.666667e-01  2.666667e-01  2.666667e-01  2.666667e-01   \n",
       "max        0.266667  2.666667e-01  2.666667e-01  2.666667e-01  2.666667e-01   \n",
       "\n",
       "             Target  \n",
       "count  42000.000000  \n",
       "mean       4.456643  \n",
       "std        2.887730  \n",
       "min        0.000000  \n",
       "25%        2.000000  \n",
       "50%        4.000000  \n",
       "75%        7.000000  \n",
       "max        9.000000  \n",
       "\n",
       "[8 rows x 785 columns]"
      ]
     },
     "execution_count": 11,
     "metadata": {},
     "output_type": "execute_result"
    }
   ],
   "source": [
    "df.describe()"
   ]
  },
  {
   "cell_type": "code",
   "execution_count": 12,
   "id": "e0be8ab7",
   "metadata": {},
   "outputs": [
    {
     "data": {
      "text/plain": [
       "(42000, 785)"
      ]
     },
     "execution_count": 12,
     "metadata": {},
     "output_type": "execute_result"
    }
   ],
   "source": [
    "df.shape"
   ]
  },
  {
   "cell_type": "markdown",
   "id": "345a32a6",
   "metadata": {},
   "source": [
    "## Model building"
   ]
  },
  {
   "cell_type": "markdown",
   "id": "2342552c",
   "metadata": {},
   "source": [
    "### Splitting data into train and test"
   ]
  },
  {
   "cell_type": "code",
   "execution_count": 27,
   "id": "9604fbb9",
   "metadata": {},
   "outputs": [],
   "source": [
    "X = df.iloc[:,:784]\n",
    "y = df['Target'].astype('int')\n"
   ]
  },
  {
   "cell_type": "code",
   "execution_count": 28,
   "id": "aaff0275",
   "metadata": {},
   "outputs": [],
   "source": [
    "from sklearn.model_selection import train_test_split\n",
    "X_train,X_test,y_train,y_test = train_test_split(X,y, train_size = 0.75, random_state = 100)"
   ]
  },
  {
   "cell_type": "code",
   "execution_count": 29,
   "id": "58e10f9d",
   "metadata": {},
   "outputs": [
    {
     "name": "stdout",
     "output_type": "stream",
     "text": [
      "(31500, 784) (31500,)\n",
      "(10500, 784) (10500,)\n"
     ]
    }
   ],
   "source": [
    "print(X_train.shape, y_train.shape)\n",
    "print(X_test.shape, y_test.shape)"
   ]
  },
  {
   "cell_type": "markdown",
   "id": "908dfc18",
   "metadata": {},
   "source": [
    "### As target variable is discrete we are going to do Classification.\n",
    "#### Algorithms that can be used for this task are logistic regression,Decision Tree classifier , Random Forest "
   ]
  },
  {
   "cell_type": "markdown",
   "id": "bd5943f1",
   "metadata": {},
   "source": [
    "## Logistic Regression"
   ]
  },
  {
   "cell_type": "code",
   "execution_count": 32,
   "id": "6ac36726",
   "metadata": {},
   "outputs": [
    {
     "data": {
      "text/plain": [
       "LogisticRegression()"
      ]
     },
     "execution_count": 32,
     "metadata": {},
     "output_type": "execute_result"
    }
   ],
   "source": [
    "from sklearn.linear_model import LogisticRegression\n",
    "classifier = LogisticRegression()\n",
    "classifier.fit(X_train, y_train)"
   ]
  },
  {
   "cell_type": "code",
   "execution_count": 33,
   "id": "6e0781ce",
   "metadata": {},
   "outputs": [],
   "source": [
    "y_test_pred = classifier.predict(X_test)"
   ]
  },
  {
   "cell_type": "code",
   "execution_count": 34,
   "id": "c031aa58",
   "metadata": {},
   "outputs": [
    {
     "data": {
      "text/html": [
       "<div>\n",
       "<style scoped>\n",
       "    .dataframe tbody tr th:only-of-type {\n",
       "        vertical-align: middle;\n",
       "    }\n",
       "\n",
       "    .dataframe tbody tr th {\n",
       "        vertical-align: top;\n",
       "    }\n",
       "\n",
       "    .dataframe thead th {\n",
       "        text-align: right;\n",
       "    }\n",
       "</style>\n",
       "<table border=\"1\" class=\"dataframe\">\n",
       "  <thead>\n",
       "    <tr style=\"text-align: right;\">\n",
       "      <th></th>\n",
       "      <th>Actual</th>\n",
       "      <th>Predicted</th>\n",
       "    </tr>\n",
       "  </thead>\n",
       "  <tbody>\n",
       "    <tr>\n",
       "      <th>21028</th>\n",
       "      <td>4</td>\n",
       "      <td>4</td>\n",
       "    </tr>\n",
       "    <tr>\n",
       "      <th>35662</th>\n",
       "      <td>8</td>\n",
       "      <td>0</td>\n",
       "    </tr>\n",
       "    <tr>\n",
       "      <th>7969</th>\n",
       "      <td>1</td>\n",
       "      <td>1</td>\n",
       "    </tr>\n",
       "    <tr>\n",
       "      <th>16537</th>\n",
       "      <td>3</td>\n",
       "      <td>7</td>\n",
       "    </tr>\n",
       "    <tr>\n",
       "      <th>36659</th>\n",
       "      <td>8</td>\n",
       "      <td>8</td>\n",
       "    </tr>\n",
       "  </tbody>\n",
       "</table>\n",
       "</div>"
      ],
      "text/plain": [
       "       Actual  Predicted\n",
       "21028       4          4\n",
       "35662       8          0\n",
       "7969        1          1\n",
       "16537       3          7\n",
       "36659       8          8"
      ]
     },
     "execution_count": 34,
     "metadata": {},
     "output_type": "execute_result"
    }
   ],
   "source": [
    "temp_df = pd.DataFrame({'Actual' : y_test,'Predicted' :y_test_pred })\n",
    "temp_df.head()"
   ]
  },
  {
   "cell_type": "code",
   "execution_count": 35,
   "id": "e053d0da",
   "metadata": {},
   "outputs": [
    {
     "data": {
      "text/plain": [
       "0.890095238095238"
      ]
     },
     "execution_count": 35,
     "metadata": {},
     "output_type": "execute_result"
    }
   ],
   "source": [
    "from sklearn import metrics\n",
    "metrics.accuracy_score(y_test, y_test_pred)"
   ]
  },
  {
   "cell_type": "markdown",
   "id": "cb4918b7",
   "metadata": {},
   "source": [
    "## DECISION TREE CLASSIFIER"
   ]
  },
  {
   "cell_type": "code",
   "execution_count": 36,
   "id": "4a3d1e1b",
   "metadata": {},
   "outputs": [
    {
     "data": {
      "text/plain": [
       "DecisionTreeClassifier()"
      ]
     },
     "execution_count": 36,
     "metadata": {},
     "output_type": "execute_result"
    }
   ],
   "source": [
    "from sklearn.tree import DecisionTreeClassifier\n",
    "tree = DecisionTreeClassifier()\n",
    "tree.fit(X_train,y_train)"
   ]
  },
  {
   "cell_type": "code",
   "execution_count": 38,
   "id": "1d463036",
   "metadata": {},
   "outputs": [],
   "source": [
    "y_test_pred = tree.predict(X_test)"
   ]
  },
  {
   "cell_type": "code",
   "execution_count": 39,
   "id": "1983e2aa",
   "metadata": {},
   "outputs": [
    {
     "data": {
      "text/html": [
       "<div>\n",
       "<style scoped>\n",
       "    .dataframe tbody tr th:only-of-type {\n",
       "        vertical-align: middle;\n",
       "    }\n",
       "\n",
       "    .dataframe tbody tr th {\n",
       "        vertical-align: top;\n",
       "    }\n",
       "\n",
       "    .dataframe thead th {\n",
       "        text-align: right;\n",
       "    }\n",
       "</style>\n",
       "<table border=\"1\" class=\"dataframe\">\n",
       "  <thead>\n",
       "    <tr style=\"text-align: right;\">\n",
       "      <th></th>\n",
       "      <th>Actual</th>\n",
       "      <th>Predicted</th>\n",
       "    </tr>\n",
       "  </thead>\n",
       "  <tbody>\n",
       "    <tr>\n",
       "      <th>21028</th>\n",
       "      <td>4</td>\n",
       "      <td>4</td>\n",
       "    </tr>\n",
       "    <tr>\n",
       "      <th>35662</th>\n",
       "      <td>8</td>\n",
       "      <td>8</td>\n",
       "    </tr>\n",
       "    <tr>\n",
       "      <th>7969</th>\n",
       "      <td>1</td>\n",
       "      <td>1</td>\n",
       "    </tr>\n",
       "    <tr>\n",
       "      <th>16537</th>\n",
       "      <td>3</td>\n",
       "      <td>9</td>\n",
       "    </tr>\n",
       "    <tr>\n",
       "      <th>36659</th>\n",
       "      <td>8</td>\n",
       "      <td>8</td>\n",
       "    </tr>\n",
       "  </tbody>\n",
       "</table>\n",
       "</div>"
      ],
      "text/plain": [
       "       Actual  Predicted\n",
       "21028       4          4\n",
       "35662       8          8\n",
       "7969        1          1\n",
       "16537       3          9\n",
       "36659       8          8"
      ]
     },
     "execution_count": 39,
     "metadata": {},
     "output_type": "execute_result"
    }
   ],
   "source": [
    "temp_df = pd.DataFrame({'Actual' : y_test,'Predicted' :y_test_pred })\n",
    "temp_df.head()"
   ]
  },
  {
   "cell_type": "code",
   "execution_count": 40,
   "id": "fa6a6ba6",
   "metadata": {},
   "outputs": [
    {
     "data": {
      "text/plain": [
       "0.7768571428571428"
      ]
     },
     "execution_count": 40,
     "metadata": {},
     "output_type": "execute_result"
    }
   ],
   "source": [
    "from sklearn import metrics\n",
    "metrics.accuracy_score(y_test, y_test_pred)"
   ]
  },
  {
   "cell_type": "markdown",
   "id": "5f916954",
   "metadata": {},
   "source": [
    "## Ensemble Random Forest"
   ]
  },
  {
   "cell_type": "code",
   "execution_count": 42,
   "id": "6005744f",
   "metadata": {},
   "outputs": [
    {
     "data": {
      "text/plain": [
       "RandomForestClassifier()"
      ]
     },
     "execution_count": 42,
     "metadata": {},
     "output_type": "execute_result"
    }
   ],
   "source": [
    "from sklearn.ensemble import RandomForestClassifier\n",
    "rfc = RandomForestClassifier()\n",
    "rfc.fit(X_train,y_train)"
   ]
  },
  {
   "cell_type": "code",
   "execution_count": 43,
   "id": "60f5c207",
   "metadata": {},
   "outputs": [],
   "source": [
    "y_test_pred = rfc.predict(X_test)"
   ]
  },
  {
   "cell_type": "code",
   "execution_count": 44,
   "id": "98fe2037",
   "metadata": {},
   "outputs": [
    {
     "data": {
      "text/html": [
       "<div>\n",
       "<style scoped>\n",
       "    .dataframe tbody tr th:only-of-type {\n",
       "        vertical-align: middle;\n",
       "    }\n",
       "\n",
       "    .dataframe tbody tr th {\n",
       "        vertical-align: top;\n",
       "    }\n",
       "\n",
       "    .dataframe thead th {\n",
       "        text-align: right;\n",
       "    }\n",
       "</style>\n",
       "<table border=\"1\" class=\"dataframe\">\n",
       "  <thead>\n",
       "    <tr style=\"text-align: right;\">\n",
       "      <th></th>\n",
       "      <th>Actual</th>\n",
       "      <th>Predicted</th>\n",
       "    </tr>\n",
       "  </thead>\n",
       "  <tbody>\n",
       "    <tr>\n",
       "      <th>21028</th>\n",
       "      <td>4</td>\n",
       "      <td>4</td>\n",
       "    </tr>\n",
       "    <tr>\n",
       "      <th>35662</th>\n",
       "      <td>8</td>\n",
       "      <td>8</td>\n",
       "    </tr>\n",
       "    <tr>\n",
       "      <th>7969</th>\n",
       "      <td>1</td>\n",
       "      <td>1</td>\n",
       "    </tr>\n",
       "    <tr>\n",
       "      <th>16537</th>\n",
       "      <td>3</td>\n",
       "      <td>8</td>\n",
       "    </tr>\n",
       "    <tr>\n",
       "      <th>36659</th>\n",
       "      <td>8</td>\n",
       "      <td>8</td>\n",
       "    </tr>\n",
       "  </tbody>\n",
       "</table>\n",
       "</div>"
      ],
      "text/plain": [
       "       Actual  Predicted\n",
       "21028       4          4\n",
       "35662       8          8\n",
       "7969        1          1\n",
       "16537       3          8\n",
       "36659       8          8"
      ]
     },
     "execution_count": 44,
     "metadata": {},
     "output_type": "execute_result"
    }
   ],
   "source": [
    "temp_df = pd.DataFrame({'Actual' : y_test,'Predicted' :y_test_pred })\n",
    "temp_df.head()"
   ]
  },
  {
   "cell_type": "code",
   "execution_count": 45,
   "id": "3c2292b8",
   "metadata": {},
   "outputs": [
    {
     "data": {
      "text/plain": [
       "0.9401904761904762"
      ]
     },
     "execution_count": 45,
     "metadata": {},
     "output_type": "execute_result"
    }
   ],
   "source": [
    "metrics.accuracy_score(y_test, y_test_pred)"
   ]
  },
  {
   "cell_type": "markdown",
   "id": "6dc1a5e7",
   "metadata": {},
   "source": [
    "## Serialization : saving the model to computer"
   ]
  },
  {
   "cell_type": "code",
   "execution_count": 46,
   "id": "f1129ff3",
   "metadata": {},
   "outputs": [],
   "source": [
    "from pickle import dump"
   ]
  },
  {
   "cell_type": "code",
   "execution_count": 47,
   "id": "26d63a57",
   "metadata": {},
   "outputs": [],
   "source": [
    "dump(classifier, open(r'C:\\Users\\user\\Desktop\\INNOMATICS\\datasets\\Models\\mnist_models\\classifier.pkl','wb'))"
   ]
  },
  {
   "cell_type": "code",
   "execution_count": 48,
   "id": "f8b34004",
   "metadata": {},
   "outputs": [],
   "source": [
    "dump(classifier, open(r'C:\\Users\\user\\Desktop\\INNOMATICS\\datasets\\Models\\mnist_models\\Logistic Regression.pkl','wb'))\n",
    "dump(tree, open(r'C:\\Users\\user\\Desktop\\INNOMATICS\\datasets\\Models\\mnist_models\\Decision Tree.pkl','wb'))\n",
    "dump(rfc, open(r'C:\\Users\\user\\Desktop\\INNOMATICS\\datasets\\Models\\mnist_models\\Random Forest.pkl','wb'))"
   ]
  },
  {
   "cell_type": "code",
   "execution_count": null,
   "id": "c2702194",
   "metadata": {},
   "outputs": [],
   "source": []
  },
  {
   "cell_type": "markdown",
   "id": "2b36cff4",
   "metadata": {},
   "source": [
    "## Deserialization"
   ]
  },
  {
   "cell_type": "code",
   "execution_count": 29,
   "id": "fde8b7c2",
   "metadata": {},
   "outputs": [],
   "source": [
    "from pickle import load\n",
    "from PIL import Image,ImageOps"
   ]
  },
  {
   "cell_type": "code",
   "execution_count": 12,
   "id": "406d220c",
   "metadata": {},
   "outputs": [],
   "source": [
    "logistic_classifier = load(open(r'C:\\Users\\user\\Desktop\\INNOMATICS\\datasets\\Models\\mnist_models\\Logistic Regression.pkl','rb'))\n",
    "decision_classifier = load(open(r'C:\\Users\\user\\Desktop\\INNOMATICS\\datasets\\Models\\mnist_models\\Decision Tree.pkl','rb'))\n",
    "random_forest = load(open(r'C:\\Users\\user\\Desktop\\INNOMATICS\\datasets\\Models\\mnist_models\\Random Forest.pkl','rb'))"
   ]
  },
  {
   "cell_type": "code",
   "execution_count": 53,
   "id": "380564f9",
   "metadata": {},
   "outputs": [
    {
     "data": {
      "text/plain": [
       "<matplotlib.image.AxesImage at 0x2739d2fd580>"
      ]
     },
     "execution_count": 53,
     "metadata": {},
     "output_type": "execute_result"
    },
    {
     "data": {
      "image/png": "[encoded data removed]",
      "text/plain": [
       "<Figure size 432x288 with 1 Axes>"
      ]
     },
     "metadata": {
      "needs_background": "light"
     },
     "output_type": "display_data"
    }
   ],
   "source": [
    "inp_img = Image.open(r'C:\\Users\\user\\Desktop\\INNOMATICS\\datasets\\sample_imgs\\imgs\\2.PNG')\n",
    "plt.imshow(inp_img)"
   ]
  },
  {
   "cell_type": "code",
   "execution_count": 50,
   "id": "d2f7a876",
   "metadata": {},
   "outputs": [
    {
     "data": {
      "text/plain": [
       "array([2])"
      ]
     },
     "execution_count": 50,
     "metadata": {},
     "output_type": "execute_result"
    }
   ],
   "source": [
    "resized_img = inp_img.resize((28,28))                 #resized the image to 28*28 as model was trained for that size\n",
    "x = np.asarray(resized_img)\n",
    "y = x[:,:,0]                                          # Taking only one single channel\n",
    "z = y.flatten()                                       # Coverting to single dim\n",
    "arr = np.array(z)\n",
    "arr = arr.reshape(1,-1)                               # input is in 2-D so conerting to 2-D array\n",
    "answer = random_forest.predict(arr)                   # predicting the class\n",
    "answer"
   ]
  },
  {
   "cell_type": "code",
   "execution_count": 51,
   "id": "8fa1179a",
   "metadata": {},
   "outputs": [
    {
     "data": {
      "text/plain": [
       "array([2])"
      ]
     },
     "execution_count": 51,
     "metadata": {},
     "output_type": "execute_result"
    }
   ],
   "source": [
    "answer = logistic_classifier.predict(arr)\n",
    "answer"
   ]
  },
  {
   "cell_type": "code",
   "execution_count": 52,
   "id": "ad9be78f",
   "metadata": {},
   "outputs": [
    {
     "data": {
      "text/plain": [
       "array([2])"
      ]
     },
     "execution_count": 52,
     "metadata": {},
     "output_type": "execute_result"
    }
   ],
   "source": [
    "answer = decision_classifier.predict(arr)\n",
    "answer"
   ]
  },
  {
   "cell_type": "code",
   "execution_count": null,
   "id": "aafa622c",
   "metadata": {},
   "outputs": [],
   "source": []
  }
 ],
 "metadata": {
  "kernelspec": {
   "display_name": "Python 3 (ipykernel)",
   "language": "python",
   "name": "python3"
  },
  "language_info": {
   "codemirror_mode": {
    "name": "ipython",
    "version": 3
   },
   "file_extension": ".py",
   "mimetype": "text/x-python",
   "name": "python",
   "nbconvert_exporter": "python",
   "pygments_lexer": "ipython3",
   "version": "3.9.12"
  }
 },
 "nbformat": 4,
 "nbformat_minor": 5
}
